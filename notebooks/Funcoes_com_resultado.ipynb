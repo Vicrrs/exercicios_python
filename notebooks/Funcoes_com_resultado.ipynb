{
 "cells": [
  {
   "cell_type": "markdown",
   "metadata": {},
   "source": [
    "### Valores de retorno\n",
    "\n",
    "* A chamada de função gera um valor de retorno, que normalmente atribuímos a uma variável ou usamos como parte de uma expressão."
   ]
  },
  {
   "cell_type": "code",
   "execution_count": 8,
   "metadata": {},
   "outputs": [
    {
     "name": "stdout",
     "output_type": "stream",
     "text": [
      "radius: 6.838233434316507\n",
      "radians: 0.20620089169224437\n",
      "e: 7.38905609893065\n",
      "height: 1.400078780290923\n"
     ]
    }
   ],
   "source": [
    "import math\n",
    "import random\n",
    "\n",
    "radius = random.uniform(1.0, 10.0)\n",
    "radians = random.uniform(0, 2 * math.pi)\n",
    "\n",
    "e = math.exp(2.0)\n",
    "height = radius * math.sin(radians)\n",
    "\n",
    "print(f\"radius: {radius}\")\n",
    "print(f\"radians: {radians}\")\n",
    "print(f\"e: {e}\")\n",
    "print(f\"height: {height}\")"
   ]
  },
  {
   "cell_type": "code",
   "execution_count": 9,
   "metadata": {},
   "outputs": [],
   "source": [
    "def area(radius):\n",
    "    return math.pi * radius ** 2"
   ]
  },
  {
   "cell_type": "code",
   "execution_count": 18,
   "metadata": {},
   "outputs": [
    {
     "name": "stdout",
     "output_type": "stream",
     "text": [
      "1\n",
      "1\n",
      "0\n"
     ]
    }
   ],
   "source": [
    "def absolute_value(x):\n",
    "    if x < 0:\n",
    "        return -x\n",
    "    else:\n",
    "        return x\n",
    "print(absolute_value(-1))\n",
    "print(absolute_value(1))\n",
    "print(absolute_value(0))"
   ]
  },
  {
   "cell_type": "code",
   "execution_count": 19,
   "metadata": {},
   "outputs": [
    {
     "name": "stdout",
     "output_type": "stream",
     "text": [
      "1\n",
      "1\n",
      "None\n"
     ]
    }
   ],
   "source": [
    "def absolute_value(x):\n",
    "    if x < 0:\n",
    "        return -x\n",
    "    if x > 0:\n",
    "        return x\n",
    "print(absolute_value(-1))\n",
    "print(absolute_value(1))\n",
    "print(absolute_value(0))"
   ]
  },
  {
   "cell_type": "code",
   "execution_count": 20,
   "metadata": {},
   "outputs": [
    {
     "name": "stdout",
     "output_type": "stream",
     "text": [
      "1\n",
      "1\n",
      "é nulo\n"
     ]
    }
   ],
   "source": [
    "def absolute_value(x):\n",
    "    if x < 0:\n",
    "        return -x\n",
    "    if x > 0:\n",
    "        return x\n",
    "    else:\n",
    "        return \"é nulo\"\n",
    "print(absolute_value(-1))\n",
    "print(absolute_value(1))\n",
    "print(absolute_value(0))"
   ]
  },
  {
   "cell_type": "code",
   "execution_count": 21,
   "metadata": {},
   "outputs": [
    {
     "name": "stdout",
     "output_type": "stream",
     "text": [
      "1\n",
      "0\n",
      "-1\n"
     ]
    }
   ],
   "source": [
    "def compare(x, y):\n",
    "    if x > y:\n",
    "        return 1\n",
    "    elif x == y:\n",
    "        return 0\n",
    "    else:\n",
    "        return -1\n",
    "    \n",
    "print(compare(3, 2))\n",
    "print(compare(2, 2))\n",
    "print(compare(1, 2))"
   ]
  },
  {
   "cell_type": "markdown",
   "metadata": {},
   "source": [
    "### Desenvolvimento Incremental\n",
    "\n",
    "* Quais são as entradas (parâmetros) e qual é a saída (valor de retorno)\n",
    "* As intruções print são útei para depuração, mas assim que conferir se a função está funcionando você deve retirálas.\n",
    "* Códigos desse tipo são chamados de scaffolding (código muleta), pq são uteis pra construir o programa, mas não são a versão final.\n",
    "* O desenvolvimento incremental pode economizar muito tempo de depuração!"
   ]
  },
  {
   "cell_type": "code",
   "execution_count": 23,
   "metadata": {},
   "outputs": [
    {
     "name": "stdout",
     "output_type": "stream",
     "text": [
      "dx: 3\n",
      "dy: 4\n",
      "dsquared: 25\n"
     ]
    },
    {
     "data": {
      "text/plain": [
       "5.0"
      ]
     },
     "execution_count": 23,
     "metadata": {},
     "output_type": "execute_result"
    }
   ],
   "source": [
    "def distance(x1, y1, x2, y2):\n",
    "    dx = x2 - x1\n",
    "    dy = y2 - y1\n",
    "    print(f\"dx: {dx}\")\n",
    "    print(f\"dy: {dy}\")\n",
    "    dsquared = dx**2 + dy**2\n",
    "    print(f\"dsquared: {dsquared}\")\n",
    "    result = math.sqrt(dsquared)\n",
    "    return result\n",
    "\n",
    "distance(1, 2, 4, 6)"
   ]
  },
  {
   "cell_type": "code",
   "execution_count": 24,
   "metadata": {},
   "outputs": [
    {
     "data": {
      "text/plain": [
       "5.0"
      ]
     },
     "execution_count": 24,
     "metadata": {},
     "output_type": "execute_result"
    }
   ],
   "source": [
    "def distance(x1, y1, x2, y2):\n",
    "    dx = x2 - x1\n",
    "    dy = y2 - y1\n",
    "    dsquared = dx**2 + dy**2\n",
    "    result = math.sqrt(dsquared)\n",
    "    return result\n",
    "\n",
    "distance(1, 2, 4, 6)"
   ]
  },
  {
   "cell_type": "markdown",
   "metadata": {},
   "source": [
    "### Composição\n",
    "\n",
    "* é possível chamar uma função de dentro de outra"
   ]
  },
  {
   "cell_type": "code",
   "execution_count": 27,
   "metadata": {},
   "outputs": [
    {
     "data": {
      "text/plain": [
       "78.53981633974483"
      ]
     },
     "execution_count": 27,
     "metadata": {},
     "output_type": "execute_result"
    }
   ],
   "source": [
    "# Escreva uma função que recebe dois pontos, o centro do circulo e um ponto no perímetro, para calcular a área do circulo\n",
    "\n",
    "# centro da circunferencia -> xc e yc\n",
    "# perimetro da circunferencia -> xp e yp\n",
    "\n",
    "def circle_area(xc, yc, xp, yp):\n",
    "    radius = distance(xc, yc, xp, yp)\n",
    "    result = area(radius)\n",
    "    return result\n",
    "\n",
    "circle_area(1, 2, 4, 6)"
   ]
  },
  {
   "cell_type": "code",
   "execution_count": 28,
   "metadata": {},
   "outputs": [
    {
     "data": {
      "text/plain": [
       "78.53981633974483"
      ]
     },
     "execution_count": 28,
     "metadata": {},
     "output_type": "execute_result"
    }
   ],
   "source": [
    "# Agora que ele ja esta funcionando conseguimos deixa-lo mais conciso compondo camadas de função\n",
    "def circle_area01(xc, yc, xp, yp):\n",
    "    return area(distance(xc, yc, xp, yp))\n",
    "\n",
    "circle_area01(1, 2, 4, 6)"
   ]
  },
  {
   "cell_type": "markdown",
   "metadata": {},
   "source": [
    "### Mais recursividade\n",
    "\n",
    "* Uma definição recursiva é semelhante a uma definição circular, no sentido de que a definição contém uma referência à coisa que é definida."
   ]
  },
  {
   "cell_type": "code",
   "execution_count": 29,
   "metadata": {},
   "outputs": [
    {
     "data": {
      "text/plain": [
       "6"
      ]
     },
     "execution_count": 29,
     "metadata": {},
     "output_type": "execute_result"
    }
   ],
   "source": [
    "def factorial(n):\n",
    "    if n == 0:\n",
    "        return 1\n",
    "    else:\n",
    "        recurse = factorial(n-1) # recursivo\n",
    "        result = n * recurse\n",
    "        return result\n",
    "    \n",
    "factorial(3)"
   ]
  },
  {
   "cell_type": "code",
   "execution_count": 40,
   "metadata": {},
   "outputs": [
    {
     "data": {
      "text/plain": [
       "21"
      ]
     },
     "execution_count": 40,
     "metadata": {},
     "output_type": "execute_result"
    }
   ],
   "source": [
    "def fibonacci(n):\n",
    "    if n == 0:\n",
    "        return 0\n",
    "    elif n == 1:\n",
    "        return 1\n",
    "    else:\n",
    "        return fibonacci(n-1) + fibonacci(n-2)\n",
    "\n",
    "fibonacci(8)"
   ]
  },
  {
   "cell_type": "code",
   "execution_count": 1,
   "metadata": {},
   "outputs": [
    {
     "name": "stdout",
     "output_type": "stream",
     "text": [
      "Fatorial não é definido para os inteiros negativos!\n"
     ]
    }
   ],
   "source": [
    "# Código Guardião, as duas primeiras condicionais atuam como guardiãs, protegendo o código\n",
    "def factorial(n):\n",
    "    if not isinstance(n ,int):\n",
    "        print(\"Fatorial é definido apenas para o conjunto dos números inteiros!\")\n",
    "        return None\n",
    "    elif n < 0:\n",
    "        print('Fatorial não é definido para os inteiros negativos!')\n",
    "        return None\n",
    "    elif n == 0:\n",
    "        return 1\n",
    "    else:\n",
    "        return n * factorial(n-1)\n",
    "    \n",
    "factorial(-1)"
   ]
  },
  {
   "cell_type": "markdown",
   "metadata": {},
   "source": [
    "### Depuração\n",
    "\n",
    "Desenvolvimento incremental com depuração! Quebrar um grande programa em funções menores cria controles naturais da depuração. Se uma função não estiver funcionando, há 3 possibilidade a considerar:\n",
    "\n",
    "* Há algo errado com os argumentos que a função está recebendo, uma precondição está sendo violada.\n",
    "* Há algo errado com a função, uma pós-condição foi violada.\n",
    "* Há algo errado com o valor de retorno ou forma na qual está sendo usada.\n",
    "\n",
    "------\n",
    "* Acrescentar intruções de exibição no começo e no fim de um função pode ajudar a tornar o fluxo de execução mais visível."
   ]
  },
  {
   "cell_type": "code",
   "execution_count": 4,
   "metadata": {},
   "outputs": [
    {
     "name": "stdout",
     "output_type": "stream",
     "text": [
      " factorial 4\n",
      " factorial 3\n",
      " factorial 2\n",
      " factorial 1\n",
      " factorial 0\n",
      " retuning 1\n",
      " returning 1\n",
      " returning 2\n",
      " returning 6\n",
      " returning 24\n"
     ]
    },
    {
     "data": {
      "text/plain": [
       "24"
      ]
     },
     "execution_count": 4,
     "metadata": {},
     "output_type": "execute_result"
    }
   ],
   "source": [
    "def factorial(n):\n",
    "    space = '' * (4 * n)\n",
    "    print(space, 'factorial', n)\n",
    "    if n == 0:\n",
    "        print(space, 'retuning 1')\n",
    "        return 1\n",
    "    else:\n",
    "        recurse = factorial(n-1)\n",
    "        result = n * recurse\n",
    "        print(space, 'returning', result)\n",
    "        return result\n",
    "    \n",
    "factorial(4)"
   ]
  },
  {
   "cell_type": "markdown",
   "metadata": {},
   "source": [
    "* Variável temporal: Uma variável usada para guardar um valor intermediário em um cálculo complexo.\n",
    "\n",
    "* Código morto: A parte de um programa que nunca pode ser executada, muitas vezes porque aparece depois de uma instrução return.\n",
    "\n",
    "* Desenvolvimento incremental: Um plano de desenvolvimento de programa para evitar a depuração, que acrescenta e testa poucas linhas de código de cada vez.\n",
    "\n",
    "* scaffolding (código-muleta): O código que usa durante o desenvolvimento de programa, mas que não faz parte da versão final.\n",
    "\n",
    "* Guardião: Um padrão de programação que usa uma instrução condiciional para verificar e lidar com circuntâncias que possam causar erros."
   ]
  },
  {
   "cell_type": "markdown",
   "metadata": {},
   "source": [
    "## Exercícios"
   ]
  },
  {
   "cell_type": "code",
   "execution_count": 6,
   "metadata": {},
   "outputs": [
    {
     "name": "stdout",
     "output_type": "stream",
     "text": [
      "9 90\n",
      "8100\n"
     ]
    }
   ],
   "source": [
    "# Diagrama de Pilha\n",
    "\n",
    "def b(z):\n",
    "    prod = a(z, z)\n",
    "    print(z, prod)\n",
    "    return prod\n",
    "\n",
    "def a(x, y):\n",
    "    x += 1\n",
    "    return x * y\n",
    "\n",
    "def c(x, y, z):\n",
    "    total = x + y + z\n",
    "    square = b(total)**2\n",
    "    return square\n",
    "\n",
    "x = 1\n",
    "y = x + 1\n",
    "print(c(x, y+3, x+y))"
   ]
  },
  {
   "cell_type": "code",
   "execution_count": 8,
   "metadata": {},
   "outputs": [
    {
     "data": {
      "text/plain": [
       "125"
      ]
     },
     "execution_count": 8,
     "metadata": {},
     "output_type": "execute_result"
    }
   ],
   "source": [
    "# Função Ackermann A(m, n)\n",
    "\"\"\"\n",
    "Ackermann , é um dos exemplos mais simples e descobertos de uma função computável total \n",
    "que não é recursiva primitiva. Todas as funções recursivas primitivas são totais e \n",
    "computáveis, mas a função de Ackermann ilustra que nem todas as funções computáveis ​\n",
    "​totais são recursivas primitivas.\n",
    "\"\"\"\n",
    "\n",
    "calls = 0\n",
    "\n",
    "def ack(m, n):\n",
    "    global calls\n",
    "    if m == 0:\n",
    "        return n+1\n",
    "    elif m > 0 and n == 0:\n",
    "        return ack(m-1, 1)\n",
    "    else:\n",
    "        return ack(m-1, ack(m, n-1))\n",
    "    \n",
    "ack(3, 4)"
   ]
  },
  {
   "cell_type": "code",
   "execution_count": 24,
   "metadata": {},
   "outputs": [
    {
     "name": "stdout",
     "output_type": "stream",
     "text": [
      "É palindromo\n"
     ]
    }
   ],
   "source": [
    "# Palindromo\n",
    "\n",
    "def is_palindrome(string, string01):\n",
    "    process_string = string.replace(' ', '').lower() \n",
    "    process_string01 = string01.replace(' ', '').lower()\n",
    "    \n",
    "    if process_string != process_string01:\n",
    "        print(\"Não são iguais após o tratamento\")\n",
    "        return\n",
    "    \n",
    "    if process_string == process_string01[::-1]:\n",
    "        print(\"É palindromo\")\n",
    "    else:\n",
    "        print(\"Não é palindromo\")\n",
    "        \n",
    "is_palindrome(\"Hannah\", \"Hannah\")"
   ]
  },
  {
   "cell_type": "code",
   "execution_count": null,
   "metadata": {},
   "outputs": [],
   "source": [
    "\n",
    "\n"
   ]
  },
  {
   "cell_type": "code",
   "execution_count": null,
   "metadata": {},
   "outputs": [],
   "source": []
  }
 ],
 "metadata": {
  "kernelspec": {
   "display_name": "Python 3",
   "language": "python",
   "name": "python3"
  },
  "language_info": {
   "codemirror_mode": {
    "name": "ipython",
    "version": 3
   },
   "file_extension": ".py",
   "mimetype": "text/x-python",
   "name": "python",
   "nbconvert_exporter": "python",
   "pygments_lexer": "ipython3",
   "version": "3.11.6"
  }
 },
 "nbformat": 4,
 "nbformat_minor": 2
}
