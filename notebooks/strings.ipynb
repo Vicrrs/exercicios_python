{
 "cells": [
  {
   "cell_type": "markdown",
   "metadata": {},
   "source": [
    "## Strings\n",
    "\n",
    "* String é uma sequência, ou seja, uma coleção ordenada de outros valores"
   ]
  },
  {
   "cell_type": "code",
   "execution_count": 2,
   "metadata": {},
   "outputs": [
    {
     "name": "stdout",
     "output_type": "stream",
     "text": [
      "a\n"
     ]
    }
   ],
   "source": [
    "# A expressão entre colchetes se chama índice\n",
    "fruit = 'banana'\n",
    "letter = fruit[1]\n",
    "print(letter)\n",
    "# O índice é uma referência do começo de uma string,e a referencia da primeira letra é zero"
   ]
  },
  {
   "cell_type": "code",
   "execution_count": 8,
   "metadata": {},
   "outputs": [
    {
     "name": "stdout",
     "output_type": "stream",
     "text": [
      "b\n",
      "a\n",
      "n\n",
      "a\n",
      "n\n",
      "a\n"
     ]
    }
   ],
   "source": [
    "i = 1\n",
    "print(fruit[i-1])\n",
    "print(fruit[i])\n",
    "print(fruit[i+1])\n",
    "print(fruit[i+2])\n",
    "print(fruit[i+3])\n",
    "print(fruit[i+4])"
   ]
  },
  {
   "cell_type": "code",
   "execution_count": 10,
   "metadata": {},
   "outputs": [
    {
     "data": {
      "text/plain": [
       "6"
      ]
     },
     "execution_count": 10,
     "metadata": {},
     "output_type": "execute_result"
    }
   ],
   "source": [
    "# len é uma função integrada que devolve o número de caracteres em uma string\n",
    "fruit = 'banana'\n",
    "len(fruit)"
   ]
  },
  {
   "cell_type": "code",
   "execution_count": 14,
   "metadata": {},
   "outputs": [
    {
     "name": "stdout",
     "output_type": "stream",
     "text": [
      "a\n"
     ]
    }
   ],
   "source": [
    "fruit = 'banana'\n",
    "length = len(fruit)\n",
    "last = fruit[length-1]\n",
    "print(last)"
   ]
  },
  {
   "cell_type": "markdown",
   "metadata": {},
   "source": [
    "### Travessia com LOOP\n",
    "\n",
    "* O processamento de um caractere por vez em uma string. Muitas vezes comçam no inicio, selecionam um caractere por vez, fazem algo e continuam até o fim.\n",
    "\n"
   ]
  },
  {
   "cell_type": "code",
   "execution_count": 15,
   "metadata": {},
   "outputs": [
    {
     "name": "stdout",
     "output_type": "stream",
     "text": [
      "b\n",
      "a\n",
      "n\n",
      "a\n",
      "n\n",
      "a\n"
     ]
    }
   ],
   "source": [
    "fruint = 'banana'\n",
    "index = 0\n",
    "\n",
    "while index < len(fruit):\n",
    "    letter = fruit[index]\n",
    "    print(letter)\n",
    "    index += 1"
   ]
  },
  {
   "cell_type": "code",
   "execution_count": 16,
   "metadata": {},
   "outputs": [
    {
     "name": "stdout",
     "output_type": "stream",
     "text": [
      "b\n",
      "a\n",
      "n\n",
      "a\n",
      "n\n",
      "a\n"
     ]
    }
   ],
   "source": [
    "for letter in fruit:\n",
    "    print(letter)"
   ]
  },
  {
   "cell_type": "code",
   "execution_count": 17,
   "metadata": {},
   "outputs": [
    {
     "name": "stdout",
     "output_type": "stream",
     "text": [
      "Jack\n",
      "Kack\n",
      "Lack\n",
      "Mack\n",
      "Nack\n",
      "Oack\n",
      "Pack\n",
      "Qack\n"
     ]
    }
   ],
   "source": [
    "prefixes = 'JKLMNOPQ'\n",
    "sufix = 'ack'\n",
    "\n",
    "for letter in prefixes:\n",
    "    print(letter + sufix)"
   ]
  },
  {
   "cell_type": "markdown",
   "metadata": {},
   "source": [
    "### Fatiamento de um String\n",
    "\n",
    "* Um segmento de uma string é uma fatia\n",
    "* Strings são imutaveis"
   ]
  },
  {
   "cell_type": "code",
   "execution_count": 21,
   "metadata": {},
   "outputs": [
    {
     "name": "stdout",
     "output_type": "stream",
     "text": [
      "Monty\n",
      "Python\n"
     ]
    }
   ],
   "source": [
    "s = 'Monty Python'\n",
    "\n",
    "print(s[:5])\n",
    "print(s[6:])"
   ]
  },
  {
   "cell_type": "code",
   "execution_count": 25,
   "metadata": {},
   "outputs": [
    {
     "data": {
      "text/plain": [
       "0"
      ]
     },
     "execution_count": 25,
     "metadata": {},
     "output_type": "execute_result"
    }
   ],
   "source": [
    "# Buscando\n",
    "def find(word, letter):\n",
    "    index = 0\n",
    "    while index < len(word):\n",
    "        if word[index] == letter:\n",
    "            return index\n",
    "        index += 1\n",
    "    return -1\n",
    "\n",
    "find('banana', 'b')"
   ]
  },
  {
   "cell_type": "code",
   "execution_count": 27,
   "metadata": {},
   "outputs": [
    {
     "name": "stdout",
     "output_type": "stream",
     "text": [
      "também\n"
     ]
    }
   ],
   "source": [
    "def procurar_palavra_em_frases(palavra, frases):\n",
    "    for frase in frases:\n",
    "        # Usamos o método split() para dividir a frase em palavras\n",
    "        # e verificamos se a palavra está na lista resultante.\n",
    "        if palavra in frase.split():\n",
    "            return True\n",
    "    return False\n",
    "\n",
    "frases = [\n",
    "    \"Esta é a primeira frase de teste\",\n",
    "    \"A segunda frase também está aqui\",\n",
    "    \"Terceira frase para procurar a palavra\"\n",
    "]\n",
    "\n",
    "palavra = \"também\"\n",
    "print(procurar_palavra_em_frases(palavra, frases))\n"
   ]
  },
  {
   "cell_type": "code",
   "execution_count": 29,
   "metadata": {},
   "outputs": [
    {
     "name": "stdout",
     "output_type": "stream",
     "text": [
      "Palavra encontrada!\n"
     ]
    }
   ],
   "source": [
    "def buscar_palavra_em_frase(frase, palavra):\n",
    "    # Converte tanto a frase quanto a palavra para minúsculas para fazer uma busca insensível a maiúsculas/minúsculas\n",
    "    frase_min = frase.lower()\n",
    "    palavra_min = palavra.lower()\n",
    "\n",
    "    # Verifica se a palavra está na frase\n",
    "    if palavra_min in frase_min:\n",
    "        return True\n",
    "    else:\n",
    "        return False\n",
    "\n",
    "# Exemplo de uso\n",
    "frase = \"A raposa marrom rápida salta sobre o cachorro preguiçoso.\"\n",
    "palavra = \"raposa\"\n",
    "\n",
    "# Chama a função e imprime o resultado\n",
    "resultado = buscar_palavra_em_frase(frase, palavra)\n",
    "print(\"Palavra encontrada!\" if resultado else \"Palavra não encontrada.\")\n"
   ]
  },
  {
   "cell_type": "code",
   "execution_count": 30,
   "metadata": {},
   "outputs": [
    {
     "name": "stdout",
     "output_type": "stream",
     "text": [
      "Palavra encontrada na posição 2.\n"
     ]
    }
   ],
   "source": [
    "def buscar_palavra_e_posicao_em_frase(frase, palavra):\n",
    "    # Converte tanto a frase quanto a palavra para minúsculas para fazer uma busca insensível a maiúsculas/minúsculas\n",
    "    frase_min = frase.lower()\n",
    "    palavra_min = palavra.lower()\n",
    "\n",
    "    # Encontra a posição da palavra na frase\n",
    "    posicao = frase_min.find(palavra_min)\n",
    "\n",
    "    # Verifica se a palavra está na frase\n",
    "    encontrada = posicao != -1\n",
    "\n",
    "    return encontrada, posicao\n",
    "\n",
    "# Exemplo de uso\n",
    "frase = \"A raposa marrom rápida salta sobre o cachorro preguiçoso.\"\n",
    "palavra = \"raposa\"\n",
    "\n",
    "# Chama a função e imprime o resultado\n",
    "encontrada, posicao = buscar_palavra_e_posicao_em_frase(frase, palavra)\n",
    "if encontrada:\n",
    "    print(f\"Palavra encontrada na posição {posicao}.\")\n",
    "else:\n",
    "    print(\"Palavra não encontrada.\")\n"
   ]
  },
  {
   "cell_type": "markdown",
   "metadata": {},
   "source": [
    "### Loop e contagem"
   ]
  },
  {
   "cell_type": "code",
   "execution_count": 32,
   "metadata": {},
   "outputs": [
    {
     "name": "stdout",
     "output_type": "stream",
     "text": [
      "9\n"
     ]
    }
   ],
   "source": [
    "word = 'banana banana banana'\n",
    "count = 0\n",
    "for letter in word:\n",
    "    if letter == 'a':\n",
    "        count += 1\n",
    "print(count)"
   ]
  },
  {
   "cell_type": "code",
   "execution_count": null,
   "metadata": {},
   "outputs": [],
   "source": []
  }
 ],
 "metadata": {
  "kernelspec": {
   "display_name": "Python 3",
   "language": "python",
   "name": "python3"
  },
  "language_info": {
   "codemirror_mode": {
    "name": "ipython",
    "version": 3
   },
   "file_extension": ".py",
   "mimetype": "text/x-python",
   "name": "python",
   "nbconvert_exporter": "python",
   "pygments_lexer": "ipython3",
   "version": "3.11.6"
  }
 },
 "nbformat": 4,
 "nbformat_minor": 2
}
