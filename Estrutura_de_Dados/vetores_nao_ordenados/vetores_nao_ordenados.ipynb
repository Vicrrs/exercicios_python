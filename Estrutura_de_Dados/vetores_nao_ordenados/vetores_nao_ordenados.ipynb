{
 "cells": [
  {
   "cell_type": "markdown",
   "metadata": {},
   "source": [
    "# Vetores não ordenados\n",
    "\n",
    "* Inserção\n",
    "* Pesquisa\n",
    "* Remoção"
   ]
  },
  {
   "cell_type": "markdown",
   "metadata": {},
   "source": []
  }
 ],
 "metadata": {
  "language_info": {
   "name": "python"
  }
 },
 "nbformat": 4,
 "nbformat_minor": 2
}
