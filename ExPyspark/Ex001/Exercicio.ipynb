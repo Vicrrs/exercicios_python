{
 "cells": [
  {
   "cell_type": "code",
   "execution_count": 1,
   "metadata": {},
   "outputs": [],
   "source": [
    "from pyspark.sql import SparkSession\n",
    "from pyspark.sql.functions import col, sum, avg, when, count, lit, udf\n",
    "from pyspark.sql.window import Window"
   ]
  },
  {
   "cell_type": "code",
   "execution_count": 2,
   "metadata": {},
   "outputs": [
    {
     "name": "stderr",
     "output_type": "stream",
     "text": [
      "24/07/20 18:53:12 WARN Utils: Your hostname, victor-aspirea31558 resolves to a loopback address: 127.0.1.1; using 192.168.0.3 instead (on interface wlp0s20f3)\n",
      "24/07/20 18:53:12 WARN Utils: Set SPARK_LOCAL_IP if you need to bind to another address\n",
      "Setting default log level to \"WARN\".\n",
      "To adjust logging level use sc.setLogLevel(newLevel). For SparkR, use setLogLevel(newLevel).\n",
      "24/07/20 18:53:13 WARN NativeCodeLoader: Unable to load native-hadoop library for your platform... using builtin-java classes where applicable\n"
     ]
    }
   ],
   "source": [
    "# Inicializando a sessão Spark\n",
    "spark = SparkSession.builder \\\n",
    "    .appName(\"PySpark Exercises\") \\\n",
    "    .getOrCreate()"
   ]
  },
  {
   "cell_type": "code",
   "execution_count": 3,
   "metadata": {},
   "outputs": [],
   "source": [
    "# Definindo o nível de log para ERROR\n",
    "spark.sparkContext.setLogLevel(\"ERROR\")"
   ]
  },
  {
   "cell_type": "code",
   "execution_count": 4,
   "metadata": {},
   "outputs": [],
   "source": [
    "# Carregar os dados de exemplo\n",
    "customers = spark.read.csv(\"/home/vicrrs/Projetos_github/exercicios_python/ExPyspark/Ex001/data/customers.csv\", header=True, inferSchema=True)\n",
    "orders = spark.read.csv(\"/home/vicrrs/Projetos_github/exercicios_python/ExPyspark/Ex001/data/orders.csv\", header=True, inferSchema=True)\n",
    "products = spark.read.csv(\"/home/vicrrs/Projetos_github/exercicios_python/ExPyspark/Ex001/data/products.csv\", header=True, inferSchema=True)"
   ]
  },
  {
   "cell_type": "markdown",
   "metadata": {},
   "source": [
    "### Leitura dos dados"
   ]
  },
  {
   "cell_type": "code",
   "execution_count": 5,
   "metadata": {},
   "outputs": [
    {
     "name": "stdout",
     "output_type": "stream",
     "text": [
      "+-----------+-------------+---+-----------+\n",
      "|customer_id|customer_name|age|       city|\n",
      "+-----------+-------------+---+-----------+\n",
      "|          1|     John Doe| 28|   New York|\n",
      "|          2|   Jane Smith| 34|Los Angeles|\n",
      "|          3|Emily Johnson| 21|    Chicago|\n",
      "|          4|Michael Brown| 45|    Houston|\n",
      "|          5|  Linda Davis| 39|    Phoenix|\n",
      "+-----------+-------------+---+-----------+\n",
      "\n"
     ]
    }
   ],
   "source": [
    "customers.show()"
   ]
  },
  {
   "cell_type": "code",
   "execution_count": 6,
   "metadata": {},
   "outputs": [
    {
     "name": "stdout",
     "output_type": "stream",
     "text": [
      "+--------+-----------+----------+--------+-----+\n",
      "|order_id|customer_id|   product|quantity|price|\n",
      "+--------+-----------+----------+--------+-----+\n",
      "|     101|          1|    Laptop|       1| 1000|\n",
      "|     102|          2|Smartphone|       2|  500|\n",
      "|     103|          1|    Tablet|       3|  200|\n",
      "|     104|          3|Headphones|       1|  150|\n",
      "|     105|          4|   Monitor|       2|  300|\n",
      "+--------+-----------+----------+--------+-----+\n",
      "\n"
     ]
    }
   ],
   "source": [
    "orders.show()"
   ]
  },
  {
   "cell_type": "code",
   "execution_count": 7,
   "metadata": {},
   "outputs": [
    {
     "name": "stdout",
     "output_type": "stream",
     "text": [
      "+----------+------------+-----------+-----+\n",
      "|product_id|product_name|   category|price|\n",
      "+----------+------------+-----------+-----+\n",
      "|         1|      Laptop|Electronics| 1000|\n",
      "|         2|  Smartphone|Electronics|  500|\n",
      "|         3|      Tablet|Electronics|  200|\n",
      "|         4|  Headphones|Accessories|  150|\n",
      "|         5|     Monitor|Electronics|  300|\n",
      "+----------+------------+-----------+-----+\n",
      "\n"
     ]
    }
   ],
   "source": [
    "products.show()"
   ]
  },
  {
   "cell_type": "markdown",
   "metadata": {},
   "source": [
    "### Exibir Schemas"
   ]
  },
  {
   "cell_type": "code",
   "execution_count": 8,
   "metadata": {},
   "outputs": [
    {
     "name": "stdout",
     "output_type": "stream",
     "text": [
      "root\n",
      " |-- customer_id: integer (nullable = true)\n",
      " |-- customer_name: string (nullable = true)\n",
      " |-- age: integer (nullable = true)\n",
      " |-- city: string (nullable = true)\n",
      "\n"
     ]
    }
   ],
   "source": [
    "customers.printSchema()"
   ]
  },
  {
   "cell_type": "code",
   "execution_count": 9,
   "metadata": {},
   "outputs": [
    {
     "name": "stdout",
     "output_type": "stream",
     "text": [
      "root\n",
      " |-- order_id: integer (nullable = true)\n",
      " |-- customer_id: integer (nullable = true)\n",
      " |-- product: string (nullable = true)\n",
      " |-- quantity: integer (nullable = true)\n",
      " |-- price: integer (nullable = true)\n",
      "\n"
     ]
    }
   ],
   "source": [
    "orders.printSchema()"
   ]
  },
  {
   "cell_type": "code",
   "execution_count": 10,
   "metadata": {},
   "outputs": [
    {
     "name": "stdout",
     "output_type": "stream",
     "text": [
      "root\n",
      " |-- product_id: integer (nullable = true)\n",
      " |-- product_name: string (nullable = true)\n",
      " |-- category: string (nullable = true)\n",
      " |-- price: integer (nullable = true)\n",
      "\n"
     ]
    }
   ],
   "source": [
    "products.printSchema()"
   ]
  },
  {
   "cell_type": "markdown",
   "metadata": {},
   "source": [
    "### Contar Registros"
   ]
  },
  {
   "cell_type": "code",
   "execution_count": 11,
   "metadata": {},
   "outputs": [
    {
     "data": {
      "text/plain": [
       "5"
      ]
     },
     "execution_count": 11,
     "metadata": {},
     "output_type": "execute_result"
    }
   ],
   "source": [
    "customers.count()"
   ]
  },
  {
   "cell_type": "code",
   "execution_count": 12,
   "metadata": {},
   "outputs": [
    {
     "data": {
      "text/plain": [
       "5"
      ]
     },
     "execution_count": 12,
     "metadata": {},
     "output_type": "execute_result"
    }
   ],
   "source": [
    "orders.count()"
   ]
  },
  {
   "cell_type": "code",
   "execution_count": 13,
   "metadata": {},
   "outputs": [
    {
     "data": {
      "text/plain": [
       "5"
      ]
     },
     "execution_count": 13,
     "metadata": {},
     "output_type": "execute_result"
    }
   ],
   "source": [
    "products.count()"
   ]
  },
  {
   "cell_type": "markdown",
   "metadata": {},
   "source": [
    "### Selecionar Colunas"
   ]
  },
  {
   "cell_type": "code",
   "execution_count": 14,
   "metadata": {},
   "outputs": [
    {
     "name": "stdout",
     "output_type": "stream",
     "text": [
      "+-----------+-------------+\n",
      "|customer_id|customer_name|\n",
      "+-----------+-------------+\n",
      "|          1|     John Doe|\n",
      "|          2|   Jane Smith|\n",
      "|          3|Emily Johnson|\n",
      "|          4|Michael Brown|\n",
      "|          5|  Linda Davis|\n",
      "+-----------+-------------+\n",
      "\n"
     ]
    }
   ],
   "source": [
    "customers.select(\"customer_id\", \"customer_name\").show()"
   ]
  },
  {
   "cell_type": "code",
   "execution_count": 15,
   "metadata": {},
   "outputs": [
    {
     "name": "stdout",
     "output_type": "stream",
     "text": [
      "+-----------+----------+\n",
      "|customer_id|   product|\n",
      "+-----------+----------+\n",
      "|          1|    Laptop|\n",
      "|          2|Smartphone|\n",
      "|          1|    Tablet|\n",
      "|          3|Headphones|\n",
      "|          4|   Monitor|\n",
      "+-----------+----------+\n",
      "\n"
     ]
    }
   ],
   "source": [
    "orders.select(\"customer_id\", \"product\").show()"
   ]
  },
  {
   "cell_type": "code",
   "execution_count": 16,
   "metadata": {},
   "outputs": [
    {
     "name": "stdout",
     "output_type": "stream",
     "text": [
      "+------------+-----+\n",
      "|product_name|price|\n",
      "+------------+-----+\n",
      "|      Laptop| 1000|\n",
      "|  Smartphone|  500|\n",
      "|      Tablet|  200|\n",
      "|  Headphones|  150|\n",
      "|     Monitor|  300|\n",
      "+------------+-----+\n",
      "\n"
     ]
    }
   ],
   "source": [
    "products.select(\"product_name\", \"price\").show()"
   ]
  },
  {
   "cell_type": "markdown",
   "metadata": {},
   "source": [
    "### Filtrar Dados\n",
    "    * Filtre os clientes com idade maior que 30 anos."
   ]
  },
  {
   "cell_type": "code",
   "execution_count": 17,
   "metadata": {},
   "outputs": [
    {
     "name": "stdout",
     "output_type": "stream",
     "text": [
      "+-----------+-------------+---+-----------+\n",
      "|customer_id|customer_name|age|       city|\n",
      "+-----------+-------------+---+-----------+\n",
      "|          2|   Jane Smith| 34|Los Angeles|\n",
      "|          4|Michael Brown| 45|    Houston|\n",
      "|          5|  Linda Davis| 39|    Phoenix|\n",
      "+-----------+-------------+---+-----------+\n",
      "\n"
     ]
    }
   ],
   "source": [
    "customers.filter(customers.age > 30).show()"
   ]
  },
  {
   "cell_type": "code",
   "execution_count": 18,
   "metadata": {},
   "outputs": [
    {
     "name": "stdout",
     "output_type": "stream",
     "text": [
      "+--------+-----------+-------+--------+-----+\n",
      "|order_id|customer_id|product|quantity|price|\n",
      "+--------+-----------+-------+--------+-----+\n",
      "|     103|          1| Tablet|       3|  200|\n",
      "+--------+-----------+-------+--------+-----+\n",
      "\n"
     ]
    }
   ],
   "source": [
    "orders.filter(orders.quantity > 2).show()"
   ]
  },
  {
   "cell_type": "code",
   "execution_count": 19,
   "metadata": {},
   "outputs": [
    {
     "name": "stdout",
     "output_type": "stream",
     "text": [
      "+----------+------------+-----------+-----+\n",
      "|product_id|product_name|   category|price|\n",
      "+----------+------------+-----------+-----+\n",
      "|         1|      Laptop|Electronics| 1000|\n",
      "|         2|  Smartphone|Electronics|  500|\n",
      "|         3|      Tablet|Electronics|  200|\n",
      "|         5|     Monitor|Electronics|  300|\n",
      "+----------+------------+-----------+-----+\n",
      "\n"
     ]
    }
   ],
   "source": [
    "products.filter(products.price >= 200).show()"
   ]
  },
  {
   "cell_type": "code",
   "execution_count": 20,
   "metadata": {},
   "outputs": [
    {
     "name": "stdout",
     "output_type": "stream",
     "text": [
      "+----------+------------+-----------+-----+\n",
      "|product_id|product_name|   category|price|\n",
      "+----------+------------+-----------+-----+\n",
      "|         1|      Laptop|Electronics| 1000|\n",
      "|         2|  Smartphone|Electronics|  500|\n",
      "|         3|      Tablet|Electronics|  200|\n",
      "|         5|     Monitor|Electronics|  300|\n",
      "+----------+------------+-----------+-----+\n",
      "\n"
     ]
    }
   ],
   "source": [
    "products.filter((products.price >= 180) | (products.price < 100)).show()"
   ]
  },
  {
   "cell_type": "code",
   "execution_count": 21,
   "metadata": {},
   "outputs": [
    {
     "name": "stdout",
     "output_type": "stream",
     "text": [
      "+----------+------------+-----------+-----+\n",
      "|product_id|product_name|   category|price|\n",
      "+----------+------------+-----------+-----+\n",
      "|         3|      Tablet|Electronics|  200|\n",
      "|         4|  Headphones|Accessories|  150|\n",
      "|         5|     Monitor|Electronics|  300|\n",
      "+----------+------------+-----------+-----+\n",
      "\n"
     ]
    }
   ],
   "source": [
    "products.filter((products.price >= 100) & (products.price < 400)).show()"
   ]
  },
  {
   "cell_type": "markdown",
   "metadata": {},
   "source": [
    "### Ordenar dados\n",
    "    * Ordene o DataFrame de clientes por idade em ordem decrescente."
   ]
  },
  {
   "cell_type": "code",
   "execution_count": 22,
   "metadata": {},
   "outputs": [
    {
     "name": "stdout",
     "output_type": "stream",
     "text": [
      "+-----------+-------------+---+-----------+\n",
      "|customer_id|customer_name|age|       city|\n",
      "+-----------+-------------+---+-----------+\n",
      "|          4|Michael Brown| 45|    Houston|\n",
      "|          5|  Linda Davis| 39|    Phoenix|\n",
      "|          2|   Jane Smith| 34|Los Angeles|\n",
      "|          1|     John Doe| 28|   New York|\n",
      "|          3|Emily Johnson| 21|    Chicago|\n",
      "+-----------+-------------+---+-----------+\n",
      "\n"
     ]
    }
   ],
   "source": [
    "customers.orderBy(col(\"age\").desc()).show()"
   ]
  },
  {
   "cell_type": "markdown",
   "metadata": {},
   "source": [
    "### Agrupar Dados\n",
    "    * Agrupe os pedidos por customer_id e calcule a soma das quantidades."
   ]
  },
  {
   "cell_type": "code",
   "execution_count": 23,
   "metadata": {},
   "outputs": [
    {
     "name": "stdout",
     "output_type": "stream",
     "text": [
      "+-----------+--------------+\n",
      "|customer_id|total_quantity|\n",
      "+-----------+--------------+\n",
      "|          1|             4|\n",
      "|          3|             1|\n",
      "|          4|             2|\n",
      "|          2|             2|\n",
      "+-----------+--------------+\n",
      "\n"
     ]
    }
   ],
   "source": [
    "orders.groupBy(\"customer_id\").agg(sum(\"quantity\").alias(\"total_quantity\")).show()"
   ]
  },
  {
   "cell_type": "markdown",
   "metadata": {},
   "source": [
    "### Joins\n",
    "    * Realize um inner join entre os DataFrames de clientes e pedidos com base no customer_id."
   ]
  },
  {
   "cell_type": "code",
   "execution_count": 24,
   "metadata": {},
   "outputs": [
    {
     "name": "stdout",
     "output_type": "stream",
     "text": [
      "+-----------+-------------+---+-----------+--------+----------+--------+-----+\n",
      "|customer_id|customer_name|age|       city|order_id|   product|quantity|price|\n",
      "+-----------+-------------+---+-----------+--------+----------+--------+-----+\n",
      "|          1|     John Doe| 28|   New York|     103|    Tablet|       3|  200|\n",
      "|          1|     John Doe| 28|   New York|     101|    Laptop|       1| 1000|\n",
      "|          2|   Jane Smith| 34|Los Angeles|     102|Smartphone|       2|  500|\n",
      "|          3|Emily Johnson| 21|    Chicago|     104|Headphones|       1|  150|\n",
      "|          4|Michael Brown| 45|    Houston|     105|   Monitor|       2|  300|\n",
      "+-----------+-------------+---+-----------+--------+----------+--------+-----+\n",
      "\n"
     ]
    }
   ],
   "source": [
    "customers.join(orders, \"customer_id\").show()"
   ]
  },
  {
   "cell_type": "markdown",
   "metadata": {},
   "source": [
    "### Left Join\n",
    "\n",
    "    * Realize um left join entre os DataFrames de pedidos e produtos com base no product."
   ]
  },
  {
   "cell_type": "code",
   "execution_count": 26,
   "metadata": {},
   "outputs": [
    {
     "name": "stdout",
     "output_type": "stream",
     "text": [
      "+--------+-----------+----------+--------+-----+----------+------------+-----------+-----+\n",
      "|order_id|customer_id|   product|quantity|price|product_id|product_name|   category|price|\n",
      "+--------+-----------+----------+--------+-----+----------+------------+-----------+-----+\n",
      "|     101|          1|    Laptop|       1| 1000|         1|      Laptop|Electronics| 1000|\n",
      "|     102|          2|Smartphone|       2|  500|         2|  Smartphone|Electronics|  500|\n",
      "|     103|          1|    Tablet|       3|  200|         3|      Tablet|Electronics|  200|\n",
      "|     104|          3|Headphones|       1|  150|         4|  Headphones|Accessories|  150|\n",
      "|     105|          4|   Monitor|       2|  300|         5|     Monitor|Electronics|  300|\n",
      "+--------+-----------+----------+--------+-----+----------+------------+-----------+-----+\n",
      "\n"
     ]
    }
   ],
   "source": [
    "orders.join(products, orders.product == products.product_name, \"left\").show()"
   ]
  },
  {
   "cell_type": "markdown",
   "metadata": {},
   "source": [
    "### Right Join\n",
    "\n",
    "    * Realize um right join entre os DataFrames de pedidos e clientes com base no customer_id."
   ]
  },
  {
   "cell_type": "code",
   "execution_count": 28,
   "metadata": {},
   "outputs": [
    {
     "name": "stdout",
     "output_type": "stream",
     "text": [
      "+-----------+--------+----------+--------+-----+-------------+---+-----------+\n",
      "|customer_id|order_id|   product|quantity|price|customer_name|age|       city|\n",
      "+-----------+--------+----------+--------+-----+-------------+---+-----------+\n",
      "|          1|     103|    Tablet|       3|  200|     John Doe| 28|   New York|\n",
      "|          1|     101|    Laptop|       1| 1000|     John Doe| 28|   New York|\n",
      "|          2|     102|Smartphone|       2|  500|   Jane Smith| 34|Los Angeles|\n",
      "|          3|     104|Headphones|       1|  150|Emily Johnson| 21|    Chicago|\n",
      "|          4|     105|   Monitor|       2|  300|Michael Brown| 45|    Houston|\n",
      "|          5|    NULL|      NULL|    NULL| NULL|  Linda Davis| 39|    Phoenix|\n",
      "+-----------+--------+----------+--------+-----+-------------+---+-----------+\n",
      "\n"
     ]
    }
   ],
   "source": [
    "orders.join(customers, \"customer_id\", \"right\").show()"
   ]
  },
  {
   "cell_type": "markdown",
   "metadata": {},
   "source": [
    "### Full Outer Join\n",
    "\n",
    "    * Realize um full outer join entre os DataFrames de pedidos e produtos com base no product."
   ]
  },
  {
   "cell_type": "code",
   "execution_count": 29,
   "metadata": {},
   "outputs": [
    {
     "name": "stdout",
     "output_type": "stream",
     "text": [
      "+--------+-----------+----------+--------+-----+----------+------------+-----------+-----+\n",
      "|order_id|customer_id|   product|quantity|price|product_id|product_name|   category|price|\n",
      "+--------+-----------+----------+--------+-----+----------+------------+-----------+-----+\n",
      "|     104|          3|Headphones|       1|  150|         4|  Headphones|Accessories|  150|\n",
      "|     101|          1|    Laptop|       1| 1000|         1|      Laptop|Electronics| 1000|\n",
      "|     105|          4|   Monitor|       2|  300|         5|     Monitor|Electronics|  300|\n",
      "|     102|          2|Smartphone|       2|  500|         2|  Smartphone|Electronics|  500|\n",
      "|     103|          1|    Tablet|       3|  200|         3|      Tablet|Electronics|  200|\n",
      "+--------+-----------+----------+--------+-----+----------+------------+-----------+-----+\n",
      "\n"
     ]
    }
   ],
   "source": [
    "orders.join(products, orders.product == products.product_name, \"outer\").show()"
   ]
  },
  {
   "cell_type": "markdown",
   "metadata": {},
   "source": [
    "### Cruzamento de Dados\n",
    "\n",
    "    * Realize um cross join entre os DataFrames de clientes e produtos."
   ]
  },
  {
   "cell_type": "code",
   "execution_count": 30,
   "metadata": {},
   "outputs": [
    {
     "name": "stdout",
     "output_type": "stream",
     "text": [
      "+-----------+-------------+---+-----------+----------+------------+-----------+-----+\n",
      "|customer_id|customer_name|age|       city|product_id|product_name|   category|price|\n",
      "+-----------+-------------+---+-----------+----------+------------+-----------+-----+\n",
      "|          1|     John Doe| 28|   New York|         1|      Laptop|Electronics| 1000|\n",
      "|          2|   Jane Smith| 34|Los Angeles|         1|      Laptop|Electronics| 1000|\n",
      "|          3|Emily Johnson| 21|    Chicago|         1|      Laptop|Electronics| 1000|\n",
      "|          4|Michael Brown| 45|    Houston|         1|      Laptop|Electronics| 1000|\n",
      "|          5|  Linda Davis| 39|    Phoenix|         1|      Laptop|Electronics| 1000|\n",
      "|          1|     John Doe| 28|   New York|         2|  Smartphone|Electronics|  500|\n",
      "|          2|   Jane Smith| 34|Los Angeles|         2|  Smartphone|Electronics|  500|\n",
      "|          3|Emily Johnson| 21|    Chicago|         2|  Smartphone|Electronics|  500|\n",
      "|          4|Michael Brown| 45|    Houston|         2|  Smartphone|Electronics|  500|\n",
      "|          5|  Linda Davis| 39|    Phoenix|         2|  Smartphone|Electronics|  500|\n",
      "|          1|     John Doe| 28|   New York|         3|      Tablet|Electronics|  200|\n",
      "|          2|   Jane Smith| 34|Los Angeles|         3|      Tablet|Electronics|  200|\n",
      "|          3|Emily Johnson| 21|    Chicago|         3|      Tablet|Electronics|  200|\n",
      "|          4|Michael Brown| 45|    Houston|         3|      Tablet|Electronics|  200|\n",
      "|          5|  Linda Davis| 39|    Phoenix|         3|      Tablet|Electronics|  200|\n",
      "|          1|     John Doe| 28|   New York|         4|  Headphones|Accessories|  150|\n",
      "|          2|   Jane Smith| 34|Los Angeles|         4|  Headphones|Accessories|  150|\n",
      "|          3|Emily Johnson| 21|    Chicago|         4|  Headphones|Accessories|  150|\n",
      "|          4|Michael Brown| 45|    Houston|         4|  Headphones|Accessories|  150|\n",
      "|          5|  Linda Davis| 39|    Phoenix|         4|  Headphones|Accessories|  150|\n",
      "+-----------+-------------+---+-----------+----------+------------+-----------+-----+\n",
      "only showing top 20 rows\n",
      "\n"
     ]
    }
   ],
   "source": [
    "customers.crossJoin(products).show()"
   ]
  },
  {
   "cell_type": "markdown",
   "metadata": {},
   "source": [
    "### Criação de Colunas\n",
    "\n",
    "    * Crie uma nova coluna total_price no DataFrame de pedidos calculando a multiplicação de quantity e price."
   ]
  },
  {
   "cell_type": "code",
   "execution_count": 31,
   "metadata": {},
   "outputs": [
    {
     "name": "stdout",
     "output_type": "stream",
     "text": [
      "+--------+-----------+----------+--------+-----+-----------+\n",
      "|order_id|customer_id|   product|quantity|price|total_price|\n",
      "+--------+-----------+----------+--------+-----+-----------+\n",
      "|     101|          1|    Laptop|       1| 1000|       1000|\n",
      "|     102|          2|Smartphone|       2|  500|       1000|\n",
      "|     103|          1|    Tablet|       3|  200|        600|\n",
      "|     104|          3|Headphones|       1|  150|        150|\n",
      "|     105|          4|   Monitor|       2|  300|        600|\n",
      "+--------+-----------+----------+--------+-----+-----------+\n",
      "\n"
     ]
    }
   ],
   "source": [
    "orders.withColumn(\"total_price\", orders.quantity * orders.price).show()"
   ]
  },
  {
   "cell_type": "markdown",
   "metadata": {},
   "source": [
    "### Conversão de Tipos\n",
    "\n",
    "    * Converta a coluna age do DataFrame de clientes para o tipo String."
   ]
  },
  {
   "cell_type": "code",
   "execution_count": 32,
   "metadata": {},
   "outputs": [
    {
     "name": "stdout",
     "output_type": "stream",
     "text": [
      "root\n",
      " |-- customer_id: integer (nullable = true)\n",
      " |-- customer_name: string (nullable = true)\n",
      " |-- age: string (nullable = true)\n",
      " |-- city: string (nullable = true)\n",
      "\n"
     ]
    }
   ],
   "source": [
    "customers.withColumn(\"age\", col(\"age\").cast(\"string\")).printSchema()"
   ]
  },
  {
   "cell_type": "code",
   "execution_count": null,
   "metadata": {},
   "outputs": [],
   "source": []
  }
 ],
 "metadata": {
  "kernelspec": {
   "display_name": "Python 3",
   "language": "python",
   "name": "python3"
  },
  "language_info": {
   "codemirror_mode": {
    "name": "ipython",
    "version": 3
   },
   "file_extension": ".py",
   "mimetype": "text/x-python",
   "name": "python",
   "nbconvert_exporter": "python",
   "pygments_lexer": "ipython3",
   "version": "3.12.4"
  }
 },
 "nbformat": 4,
 "nbformat_minor": 2
}
